{
 "cells": [
  {
   "cell_type": "markdown",
   "metadata": {
    "collapsed": false
   },
   "source": [
    "# Reversible Truth Tables"
   ]
  },
  {
   "cell_type": "code",
   "execution_count": 149,
   "metadata": {
    "collapsed": false
   },
   "outputs": [],
   "source": [
    "import numpy as np\n",
    "\n",
    "input_headers = ['x', 'y', 'z']\n",
    "output_headers = ['output1', 'output2']\n",
    "input = np.array([[0,0,0], [0,0,1], [0,1,0], [0,1,1], [1,0,0], [1,0,1], [1,1,0], [1,1,1],])\n",
    "output = np.array([[0,0], [0,0], [0,0], [0,0], [0,0], [0,0], [0,0], [0,0]])\n",
    "\n",
    "full_add_input_headers = ['cin', 'x', 'y']\n",
    "full_add_output_headers = ['cout', 'sum']\n",
    "full_add_input = np.array([[0,0,0], [0,0,1], [0,1,0], [0,1,1], [1,0,0], [1,0,1], [1,1,0], [1,1,1],])\n",
    "full_add_output = np.array([[0,0], [0,1], [0,1], [1,0], [0,1], [1,0], [1,0], [1,1]])\n"
   ]
  },
  {
   "cell_type": "code",
   "execution_count": 141,
   "metadata": {
    "collapsed": true
   },
   "outputs": [],
   "source": [
    "input_headers = ['x', 'y']\n",
    "output_headers = ['output1', 'output2', 'output3']\n",
    "input = np.array([[0,0], [0,1], [1,0], [1,1]])\n",
    "output = np.array([[0,0,0], [0,0,0], [0,0,0], [0,0,0], [0,0,0], [0,0,0], [0,0,0], [0,0,0]])"
   ]
  },
  {
   "cell_type": "code",
   "execution_count": 25,
   "metadata": {
    "collapsed": false
   },
   "outputs": [],
   "source": [
    "def printTruthTable(input, output, input_headers, output_headers):\n",
    "#     if len(input) != len(output):\n",
    "#         print(\"input does not match output length\")\n",
    "#         return \n",
    "    row_num = 0\n",
    "    header = \"| \"\n",
    "\n",
    "    for col in range(input.shape[1]):\n",
    "        header = header + input_headers[col] + \" | \"\n",
    "    header = header + \"| \"\n",
    "    \n",
    "    for col in range(output.shape[1]):\n",
    "        header = header + output_headers[col] + \" | \"\n",
    "    \n",
    "    div = \"\"\n",
    "    for i in header:\n",
    "        div += \"-\"\n",
    "        \n",
    "    print(header)\n",
    "    print(div)\n",
    "    \n",
    "    for row in input:\n",
    "        line = \"| \"\n",
    "        for i, index in enumerate(row):\n",
    "            space = \"\"\n",
    "            for item in range(len(input_headers[i])):\n",
    "                space += \" \"\n",
    "            line = line + str(index) + space + \"| \"\n",
    "        line = line + \"| \"\n",
    "        for i, index in enumerate(output[row_num]):\n",
    "            space = \"\"\n",
    "            for item in range(len(output_headers[i])):\n",
    "                space += \" \"\n",
    "            line = line + str(index) + space + \"| \"\n",
    "        print(line)\n",
    "        row_num += 1"
   ]
  },
  {
   "cell_type": "code",
   "execution_count": 151,
   "metadata": {
    "collapsed": false
   },
   "outputs": [
    {
     "name": "stdout",
     "output_type": "stream",
     "text": [
      "| x | y | z | | output1 | output2 | \n",
      "------------------------------------\n",
      "| 0 | 0 | 0 | | 0       | 0       | \n",
      "| 0 | 0 | 1 | | 0       | 0       | \n",
      "| 0 | 1 | 0 | | 0       | 0       | \n",
      "| 0 | 1 | 1 | | 0       | 0       | \n",
      "| 1 | 0 | 0 | | 0       | 0       | \n",
      "| 1 | 0 | 1 | | 0       | 0       | \n",
      "| 1 | 1 | 0 | | 0       | 0       | \n",
      "| 1 | 1 | 1 | | 0       | 0       | \n"
     ]
    }
   ],
   "source": [
    "printTruthTable(input, output, input_headers, output_headers)"
   ]
  },
  {
   "cell_type": "code",
   "execution_count": 26,
   "metadata": {
    "collapsed": false
   },
   "outputs": [],
   "source": [
    "from pandas import *\n",
    "\n",
    "def duplicate(decodeArray):\n",
    "    seen = set()\n",
    "    newList = []\n",
    "    for item in decodeArray:\n",
    "        t = tuple(item)\n",
    "        if t not in seen: \n",
    "            newList.append(item)\n",
    "            seen.add(t)\n",
    "    return newList\n",
    "\n",
    "def isReversible(input, output):\n",
    "    if input.shape == output.shape:\n",
    "        # check if one to one\n",
    "        seen = set()\n",
    "        unique_rows = []\n",
    "        for item in output:\n",
    "            t = tuple(item)\n",
    "            if t not in seen: \n",
    "                unique_rows.append(item)\n",
    "                seen.add(t)\n",
    "        unique_rows = np.array(unique_rows)\n",
    "        return unique_rows.shape == output.shape\n",
    "    else:\n",
    "        return False\n",
    "    \n"
   ]
  },
  {
   "cell_type": "code",
   "execution_count": 153,
   "metadata": {
    "collapsed": false
   },
   "outputs": [
    {
     "data": {
      "text/plain": [
       "False"
      ]
     },
     "execution_count": 153,
     "metadata": {},
     "output_type": "execute_result"
    }
   ],
   "source": [
    "isReversible(input, output)"
   ]
  },
  {
   "cell_type": "code",
   "execution_count": null,
   "metadata": {
    "collapsed": false
   },
   "outputs": [],
   "source": []
  },
  {
   "cell_type": "code",
   "execution_count": 50,
   "metadata": {
    "collapsed": false
   },
   "outputs": [],
   "source": [
    "def reverse(input, output, input_headers, output_headers, dict={}):\n",
    "    max_key = max(dict, key= lambda x: len(set(dict[x])))\n",
    "    num_garbage = len(dict[max_key])\n",
    "    print(\"Number of garbage bits needed: \" + str(len(\"{0:b}\".format(num_garbage))))\n",
    "    num_antica = (num_garbage + output.shape[1]) - input.shape[1]\n",
    "    print(\"Number of antica bits needed: \" + str(len(\"{0:b}\".format(num_antica))))\n",
    "\n",
    "    # makes onto\n",
    "    new_input = np.hstack((input, np.zeros((input.shape[0], len(\"{0:b}\".format(num_antica))), dtype=input.dtype)))\n",
    "    new_input_headers = input_headers\n",
    "    for i in range(len(\"{0:b}\".format(num_antica))):\n",
    "        new_input_headers.append(\"a\"+ str(i))\n",
    "    new_output = np.hstack((output, np.zeros((output.shape[0], len(\"{0:b}\".format(num_garbage))), dtype=input.dtype)))\n",
    "    new_output_headers = output_headers\n",
    "    for i in range(len(\"{0:b}\".format(num_garbage))):\n",
    "        new_output_headers.append(\"g\"+ str(i))\n",
    "        \n",
    "    #make one to one\n",
    "    new_input, new_output = synthesize(new_input, new_output, len(\"{0:b}\".format(num_antica)), len(\"{0:b}\".format(num_garbage)),dict)\n",
    "    return (new_input, new_output, new_input_headers, new_output_headers)\n",
    "\n",
    "def synthesize(input, output, num_antica, num_garbage, duplicates={}):\n",
    "    buffer = output.shape[1] - num_garbage\n",
    "    get_bin = lambda x, n: format(x, 'b').zfill(n)\n",
    "    \n",
    "    for key in duplicates:\n",
    "        number = 1\n",
    "        for item in duplicates[key]:\n",
    "            garbage = get_bin(number, num_garbage)\n",
    "            for col in range(num_garbage):\n",
    "                output[item][col+buffer] = int(garbage[col])\n",
    "            number = number + 1\n",
    "                        \n",
    "    return (input, output)\n",
    "\n",
    "def makeReversible(input, output, input_headers, output_headers): \n",
    "    seen = set()\n",
    "    duplicates = {}\n",
    "    index = 0 \n",
    "    for row in output:\n",
    "        t = tuple(row)\n",
    "        if t in seen:\n",
    "            if t in duplicates:\n",
    "                duplicates[t].append(index)\n",
    "            else:\n",
    "                duplicates[t] = [index]\n",
    "        seen.add(t)\n",
    "        index += 1    \n",
    "    \n",
    "    if isReversible(input, output):\n",
    "        print(\"Truth Table already reversible\")\n",
    "        return (input, output, input_headers, output_headers)\n",
    "    else:\n",
    "        return reverse(input, output, input_headers, output_headers, duplicates)\n",
    "    \n",
    "    \n",
    "    "
   ]
  },
  {
   "cell_type": "code",
   "execution_count": 155,
   "metadata": {
    "collapsed": false
   },
   "outputs": [
    {
     "name": "stdout",
     "output_type": "stream",
     "text": [
      "Number of garbage bits needed: 3\n",
      "Number of antica bits needed: 3\n",
      "{(0, 0): [1, 2, 3, 4, 5, 6, 7]}\n"
     ]
    }
   ],
   "source": [
    "new_input, new_output, new_input_headers, new_output_headers = makeReversible(input, output, input_headers, output_headers)"
   ]
  },
  {
   "cell_type": "code",
   "execution_count": 156,
   "metadata": {
    "collapsed": false
   },
   "outputs": [
    {
     "name": "stdout",
     "output_type": "stream",
     "text": [
      "| x | y | z | a0 | a1 | a2 | | output1 | output2 | g0 | g1 | g2 | \n",
      "------------------------------------------------------------------\n",
      "| 0 | 0 | 0 | 0  | 0  | 0  | | 0       | 0       | 0  | 0  | 0  | \n",
      "| 0 | 0 | 1 | 0  | 0  | 0  | | 0       | 0       | 0  | 0  | 1  | \n",
      "| 0 | 1 | 0 | 0  | 0  | 0  | | 0       | 0       | 0  | 1  | 0  | \n",
      "| 0 | 1 | 1 | 0  | 0  | 0  | | 0       | 0       | 0  | 1  | 1  | \n",
      "| 1 | 0 | 0 | 0  | 0  | 0  | | 0       | 0       | 1  | 0  | 0  | \n",
      "| 1 | 0 | 1 | 0  | 0  | 0  | | 0       | 0       | 1  | 0  | 1  | \n",
      "| 1 | 1 | 0 | 0  | 0  | 0  | | 0       | 0       | 1  | 1  | 0  | \n",
      "| 1 | 1 | 1 | 0  | 0  | 0  | | 0       | 0       | 1  | 1  | 1  | \n"
     ]
    },
    {
     "data": {
      "text/plain": [
       "False"
      ]
     },
     "execution_count": 156,
     "metadata": {},
     "output_type": "execute_result"
    }
   ],
   "source": [
    "new_input = np.array(new_input)\n",
    "new_output = np.array(new_output)\n",
    "printTruthTable(new_input, new_output, new_input_headers, new_output_headers)\n",
    "isReversible(new_input, new_output)"
   ]
  },
  {
   "cell_type": "code",
   "execution_count": 157,
   "metadata": {
    "collapsed": false
   },
   "outputs": [
    {
     "name": "stdout",
     "output_type": "stream",
     "text": [
      "| cin | x | y | | cout | sum | \n",
      "-------------------------------\n",
      "| 0   | 0 | 0 | | 0    | 0   | \n",
      "| 0   | 0 | 1 | | 0    | 1   | \n",
      "| 0   | 1 | 0 | | 0    | 1   | \n",
      "| 0   | 1 | 1 | | 1    | 0   | \n",
      "| 1   | 0 | 0 | | 0    | 1   | \n",
      "| 1   | 0 | 1 | | 1    | 0   | \n",
      "| 1   | 1 | 0 | | 1    | 0   | \n",
      "| 1   | 1 | 1 | | 1    | 1   | \n"
     ]
    }
   ],
   "source": [
    "# Full Adder\n",
    "printTruthTable(full_add_input, full_add_output, full_add_input_headers, full_add_output_headers)"
   ]
  },
  {
   "cell_type": "code",
   "execution_count": 158,
   "metadata": {
    "collapsed": false
   },
   "outputs": [
    {
     "name": "stdout",
     "output_type": "stream",
     "text": [
      "Number of garbage bits needed: 2\n",
      "Number of antica bits needed: 1\n",
      "{(0, 1): [2, 4], (1, 0): [5, 6]}\n",
      "| cin | x | y | a0 | | cout | sum | g0 | g1 | \n",
      "----------------------------------------------\n",
      "| 0   | 0 | 0 | 0  | | 0    | 0   | 0  | 0  | \n",
      "| 0   | 0 | 1 | 0  | | 0    | 1   | 0  | 0  | \n",
      "| 0   | 1 | 0 | 0  | | 0    | 1   | 0  | 1  | \n",
      "| 0   | 1 | 1 | 0  | | 1    | 0   | 0  | 0  | \n",
      "| 1   | 0 | 0 | 0  | | 0    | 1   | 1  | 0  | \n",
      "| 1   | 0 | 1 | 0  | | 1    | 0   | 0  | 1  | \n",
      "| 1   | 1 | 0 | 0  | | 1    | 0   | 1  | 0  | \n",
      "| 1   | 1 | 1 | 0  | | 1    | 1   | 0  | 0  | \n"
     ]
    },
    {
     "data": {
      "text/plain": [
       "True"
      ]
     },
     "execution_count": 158,
     "metadata": {},
     "output_type": "execute_result"
    }
   ],
   "source": [
    "new_input, new_output, new_input_headers, new_output_headers = makeReversible(full_add_input, full_add_output, full_add_input_headers, full_add_output_headers)\n",
    "new_input = np.array(new_input)\n",
    "new_output = np.array(new_output)\n",
    "printTruthTable(new_input, new_output, new_input_headers, new_output_headers)\n",
    "isReversible(new_input, new_output)"
   ]
  },
  {
   "cell_type": "code",
   "execution_count": 9,
   "metadata": {
    "collapsed": false
   },
   "outputs": [],
   "source": [
    "get_bin = lambda x, n: format(x, 'b').zfill(n)\n"
   ]
  },
  {
   "cell_type": "code",
   "execution_count": 11,
   "metadata": {
    "collapsed": false
   },
   "outputs": [
    {
     "data": {
      "text/plain": [
       "101"
      ]
     },
     "execution_count": 11,
     "metadata": {},
     "output_type": "execute_result"
    }
   ],
   "source": [
    "int(get_bin(5, 10))"
   ]
  },
  {
   "cell_type": "code",
   "execution_count": 107,
   "metadata": {
    "collapsed": false
   },
   "outputs": [
    {
     "name": "stdout",
     "output_type": "stream",
     "text": [
      "2\n",
      "Number of garbage bits needed: 2\n",
      "Number of antica bits needed: 2\n",
      "3\n",
      "Number of garbage bits needed: 3\n",
      "Number of antica bits needed: 3\n",
      "4\n",
      "Number of garbage bits needed: 4\n",
      "Number of antica bits needed: 4\n",
      "5\n",
      "Number of garbage bits needed: 5\n",
      "Number of antica bits needed: 5\n",
      "6\n",
      "Number of garbage bits needed: 6\n",
      "Number of antica bits needed: 6\n",
      "7\n",
      "Number of garbage bits needed: 7\n",
      "Number of antica bits needed: 7\n",
      "8\n",
      "Number of garbage bits needed: 8\n",
      "Number of antica bits needed: 8\n",
      "9\n",
      "Number of garbage bits needed: 9\n",
      "Number of antica bits needed: 9\n",
      "10\n",
      "Number of garbage bits needed: 10\n",
      "Number of antica bits needed: 10\n",
      "11\n",
      "Number of garbage bits needed: 11\n",
      "Number of antica bits needed: 11\n",
      "12\n",
      "Number of garbage bits needed: 12\n",
      "Number of antica bits needed: 12\n"
     ]
    }
   ],
   "source": [
    "import numpy as np \n",
    "import time\n",
    "\n",
    "times = []\n",
    "n_vals = [2, 3, 4, 5,6,7,8,9,10,11,12]\n",
    "for n in n_vals:\n",
    "    print(n)\n",
    "    input = []\n",
    "    output = []\n",
    "    input_headers = []\n",
    "    output_headers = []\n",
    "    for i in range(2**n):\n",
    "        input.append(list(map(int, get_bin(i, n))))\n",
    "\n",
    "    for i in range(2**n):\n",
    "        output.append(list(map(int, get_bin(0, n))))\n",
    "\n",
    "    for i in range(n):\n",
    "        input_headers.append('x')\n",
    "        output_headers.append('y')\n",
    "\n",
    "    input = np.array(input)\n",
    "    output = np.array(output)\n",
    "    \n",
    "    start = time.time()\n",
    "    new_input, new_output, new_input_headers, new_output_headers = makeReversible(input, output, input_headers, output_headers)\n",
    "    end = time.time()\n",
    "    times.append(end - start)\n",
    "        \n"
   ]
  },
  {
   "cell_type": "code",
   "execution_count": 108,
   "metadata": {
    "collapsed": false
   },
   "outputs": [
    {
     "name": "stdout",
     "output_type": "stream",
     "text": [
      "[0.0032100677490234375, 0.0003631114959716797, 0.00040793418884277344, 0.0009419918060302734, 0.00191497802734375, 0.0037310123443603516, 0.007073163986206055, 0.020654916763305664, 0.023669004440307617, 0.04853081703186035, 0.10210704803466797]\n"
     ]
    }
   ],
   "source": [
    "print(times)\n",
    "\n"
   ]
  },
  {
   "cell_type": "code",
   "execution_count": 112,
   "metadata": {
    "collapsed": false
   },
   "outputs": [
    {
     "data": {
      "image/png": "[encoded data removed]",
      "text/plain": [
       "<matplotlib.figure.Figure at 0x117398780>"
      ]
     },
     "metadata": {},
     "output_type": "display_data"
    }
   ],
   "source": [
    "import numpy as np\n",
    "import matplotlib.pyplot as plt\n",
    "from scipy.interpolate import spline\n",
    "\n",
    "x_val = ['']\n",
    "x = np.array(n_vals)\n",
    "plt.xticks(x, n_vals)\n",
    "plt.plot(x, times, 'b-o')\n",
    "xnew = np.linspace(x.min(),x.max(),300) \n",
    "\n",
    "power_smooth = spline(x,times,xnew)\n",
    "\n",
    "plt.plot(xnew,power_smooth, 'r--')\n",
    "plt.ylabel('Time (in seconds)')\n",
    "plt.xlabel('n (number of bits)')\n",
    "plt.title('n vs Time')\n",
    "plt.show()"
   ]
  },
  {
   "cell_type": "code",
   "execution_count": null,
   "metadata": {
    "collapsed": false
   },
   "outputs": [],
   "source": []
  },
  {
   "cell_type": "code",
   "execution_count": null,
   "metadata": {
    "collapsed": true
   },
   "outputs": [],
   "source": []
  }
 ],
 "metadata": {
  "anaconda-cloud": {},
  "kernelspec": {
   "display_name": "Python [default]",
   "language": "python",
   "name": "python3"
  },
  "language_info": {
   "codemirror_mode": {
    "name": "ipython",
    "version": 3
   },
   "file_extension": ".py",
   "mimetype": "text/x-python",
   "name": "python",
   "nbconvert_exporter": "python",
   "pygments_lexer": "ipython3",
   "version": "3.5.2"
  }
 },
 "nbformat": 4,
 "nbformat_minor": 1
}
