{
 "cells": [
  {
   "cell_type": "code",
   "execution_count": 849,
   "metadata": {
    "collapsed": false
   },
   "outputs": [
    {
     "data": {
      "text/plain": [
       "0.16572815184059708"
      ]
     },
     "execution_count": 849,
     "metadata": {},
     "output_type": "execute_result"
    }
   ],
   "source": [
    "## Grover's Algorithm - prove that worst case is when n = 3 because the avg gets smaller\n",
    "n = 32\n",
    "x = 1/np.sqrt(n)\n",
    "sum = (x * (n-1)) + (-x)\n",
    "sum / n"
   ]
  },
  {
   "cell_type": "code",
   "execution_count": 902,
   "metadata": {
    "collapsed": false
   },
   "outputs": [],
   "source": [
    "import numpy as np\n",
    "\n",
    "input_headers = ['x', 'y', 'z']\n",
    "output_headers = ['output1', 'output2']\n",
    "input = np.array([[0,0,0], [0,0,1], [0,1,0], [0,1,1], [1,0,0], [1,0,1], [1,1,0], [1,1,1],])\n",
    "output = np.array([[0,0], [0,1], [0,1], [1,0], [1,1], [1,1], [0,1], [1,0]])\n",
    "\n",
    "\n"
   ]
  },
  {
   "cell_type": "code",
   "execution_count": 891,
   "metadata": {
    "collapsed": true
   },
   "outputs": [],
   "source": [
    "input_headers = ['x', 'y']\n",
    "output_headers = ['output1', 'output2']\n",
    "input = np.array([[0,0], [0,1], [1,0], [1,1]])\n",
    "output = np.array([[0,0], [0,1], [1,0], [1,1]])"
   ]
  },
  {
   "cell_type": "code",
   "execution_count": 903,
   "metadata": {
    "collapsed": false
   },
   "outputs": [],
   "source": [
    "def printTruthTable(input, output, input_headers, output_headers):\n",
    "    if len(input) != len(output):\n",
    "        print(\"input does not match output length\")\n",
    "        return \n",
    "    row_num = 0\n",
    "    header = \"| \"\n",
    "\n",
    "    for col in range(input.shape[1]):\n",
    "        header = header + input_headers[col] + \" | \"\n",
    "    header = header + \"| \"\n",
    "    \n",
    "    for col in range(output.shape[1]):\n",
    "        header = header + output_headers[col] + \" | \"\n",
    "    \n",
    "    div = \"\"\n",
    "    for i in header:\n",
    "        div += \"-\"\n",
    "        \n",
    "    print(header)\n",
    "    print(div)\n",
    "    \n",
    "    for row in input:\n",
    "        line = \"| \"\n",
    "        for i, index in enumerate(row):\n",
    "            space = \"\"\n",
    "            for item in range(len(input_headers[i])):\n",
    "                space += \" \"\n",
    "            line = line + str(index) + space + \"| \"\n",
    "        line = line + \"| \"\n",
    "        for i, index in enumerate(output[row_num]):\n",
    "            space = \"\"\n",
    "            for item in range(len(output_headers[i])):\n",
    "                space += \" \"\n",
    "            line = line + str(index) + space + \"| \"\n",
    "        print(line)\n",
    "        row_num += 1"
   ]
  },
  {
   "cell_type": "code",
   "execution_count": 904,
   "metadata": {
    "collapsed": false
   },
   "outputs": [
    {
     "name": "stdout",
     "output_type": "stream",
     "text": [
      "| x | y | z | | output1 | output2 | \n",
      "------------------------------------\n",
      "| 0 | 0 | 0 | | 0       | 0       | \n",
      "| 0 | 0 | 1 | | 0       | 1       | \n",
      "| 0 | 1 | 0 | | 0       | 1       | \n",
      "| 0 | 1 | 1 | | 1       | 0       | \n",
      "| 1 | 0 | 0 | | 1       | 1       | \n",
      "| 1 | 0 | 1 | | 1       | 1       | \n",
      "| 1 | 1 | 0 | | 0       | 1       | \n",
      "| 1 | 1 | 1 | | 1       | 0       | \n"
     ]
    }
   ],
   "source": [
    "printTruthTable(input, output, input_headers, output_headers)"
   ]
  },
  {
   "cell_type": "code",
   "execution_count": 905,
   "metadata": {
    "collapsed": false
   },
   "outputs": [],
   "source": [
    "from pandas import *\n",
    "\n",
    "def isReversible(input, output):\n",
    "    if input.shape == output.shape:\n",
    "        # check if one to one\n",
    "        unique_rows = DataFrame(output).drop_duplicates().values\n",
    "        return unique_rows.shape == output.shape\n",
    "    else:\n",
    "        return False\n",
    "    \n"
   ]
  },
  {
   "cell_type": "code",
   "execution_count": 906,
   "metadata": {
    "collapsed": false
   },
   "outputs": [
    {
     "data": {
      "text/plain": [
       "False"
      ]
     },
     "execution_count": 906,
     "metadata": {},
     "output_type": "execute_result"
    }
   ],
   "source": [
    "isReversible(input, output)"
   ]
  },
  {
   "cell_type": "code",
   "execution_count": 907,
   "metadata": {
    "collapsed": false
   },
   "outputs": [],
   "source": [
    "def reverse(input, output, input_headers, output_headers, dict={}):\n",
    "    max_key = max(dict, key= lambda x: len(set(dict[x])))\n",
    "    num_garbage = len(dict[max_key])\n",
    "    print(\"Number of garbage bits needed: \" + str(num_garbage))\n",
    "    num_antica = (num_garbage + output.shape[1]) - input.shape[1]\n",
    "    print(\"Number of antica bits needed: \" + str(num_antica))\n",
    "\n",
    "    current_column = output.shape[1]\n",
    "    # resizes correctly.\n",
    "    new_input = np.hstack((input, np.zeros((input.shape[0], num_antica), dtype=input.dtype)))\n",
    "    new_input_headers = input_headers\n",
    "    for i in range(num_antica):\n",
    "        new_input_headers.append(\"a\"+ str(i))\n",
    "    new_output = np.hstack((output, np.zeros((output.shape[0], num_garbage), dtype=input.dtype)))\n",
    "    new_output_headers = output_headers\n",
    "    for i in range(num_garbage):\n",
    "        new_output_headers.append(\"g\"+ str(i))\n",
    "    \n",
    "    \n",
    "    #make onto\n",
    "    new_input, new_output = synthesize(new_input, new_output, {}, current_column)\n",
    "    return (new_input, new_output, new_input_headers, new_output_headers)\n",
    "\n",
    "def makeReversible(input, output, input_headers, output_headers): \n",
    "    seen = set()\n",
    "    duplicates = {}\n",
    "    index = 0 \n",
    "    for row in output:\n",
    "        t = tuple(row)\n",
    "        if t in seen:\n",
    "            if t in duplicates:\n",
    "                duplicates[t].append(index)\n",
    "            else:\n",
    "                duplicates[t] = [index]\n",
    "        seen.add(t)\n",
    "        index += 1    \n",
    "    \n",
    "    if isReversible(input, output):\n",
    "        print(\"Truth Table already reversible\")\n",
    "        return (input, output, input_headers, output_headers)\n",
    "    else:\n",
    "        return reverse(input, output, input_headers, output_headers, duplicates)\n",
    "    \n",
    "    \n",
    "\n",
    "def synthesize(input, output, duplicates={}, current_col=0):\n",
    "    seen = set()\n",
    "    index = 0 \n",
    "    for row in output:\n",
    "        t = tuple(row)\n",
    "        if t in seen:\n",
    "            if t in duplicates:\n",
    "                duplicates[t].append(index)\n",
    "            else:\n",
    "                duplicates[t] = [index]\n",
    "        seen.add(t)\n",
    "        index += 1    \n",
    "        \n",
    "    for key in duplicates:\n",
    "        for item in duplicates[key]:\n",
    "            output[item][current_col] = 1\n",
    "    \n",
    "    \n",
    "    if not isReversible(input, output):\n",
    "        current_col += 1\n",
    "        return synthesize(input, output, {}, current_col)\n",
    "    else:\n",
    "        return (input, output)\n",
    "    "
   ]
  },
  {
   "cell_type": "code",
   "execution_count": 908,
   "metadata": {
    "collapsed": false
   },
   "outputs": [
    {
     "name": "stdout",
     "output_type": "stream",
     "text": [
      "Number of garbage bits needed: 2\n",
      "Number of antica bits needed: 1\n"
     ]
    }
   ],
   "source": [
    "new_input, new_output, new_input_headers, new_output_headers = makeReversible(input, output, input_headers, output_headers)"
   ]
  },
  {
   "cell_type": "code",
   "execution_count": 909,
   "metadata": {
    "collapsed": false
   },
   "outputs": [
    {
     "name": "stdout",
     "output_type": "stream",
     "text": [
      "| x | y | z | a0 | | output1 | output2 | g0 | g1 | \n",
      "---------------------------------------------------\n",
      "| 0 | 0 | 0 | 0  | | 0       | 0       | 0  | 0  | \n",
      "| 0 | 0 | 1 | 0  | | 0       | 1       | 0  | 0  | \n",
      "| 0 | 1 | 0 | 0  | | 0       | 1       | 1  | 0  | \n",
      "| 0 | 1 | 1 | 0  | | 1       | 0       | 0  | 0  | \n",
      "| 1 | 0 | 0 | 0  | | 1       | 1       | 0  | 0  | \n",
      "| 1 | 0 | 1 | 0  | | 1       | 1       | 1  | 0  | \n",
      "| 1 | 1 | 0 | 0  | | 0       | 1       | 1  | 1  | \n",
      "| 1 | 1 | 1 | 0  | | 1       | 0       | 1  | 0  | \n"
     ]
    },
    {
     "data": {
      "text/plain": [
       "True"
      ]
     },
     "execution_count": 909,
     "metadata": {},
     "output_type": "execute_result"
    }
   ],
   "source": [
    "new_input = np.array(new_input)\n",
    "new_output = np.array(new_output)\n",
    "printTruthTable(new_input, new_output, new_input_headers, new_output_headers)\n",
    "isReversible(new_input, new_output)"
   ]
  },
  {
   "cell_type": "code",
   "execution_count": null,
   "metadata": {
    "collapsed": true
   },
   "outputs": [],
   "source": []
  },
  {
   "cell_type": "code",
   "execution_count": null,
   "metadata": {
    "collapsed": true
   },
   "outputs": [],
   "source": []
  }
 ],
 "metadata": {
  "anaconda-cloud": {},
  "kernelspec": {
   "display_name": "Python [default]",
   "language": "python",
   "name": "python3"
  },
  "language_info": {
   "codemirror_mode": {
    "name": "ipython",
    "version": 3
   },
   "file_extension": ".py",
   "mimetype": "text/x-python",
   "name": "python",
   "nbconvert_exporter": "python",
   "pygments_lexer": "ipython3",
   "version": "3.5.2"
  }
 },
 "nbformat": 4,
 "nbformat_minor": 1
}
